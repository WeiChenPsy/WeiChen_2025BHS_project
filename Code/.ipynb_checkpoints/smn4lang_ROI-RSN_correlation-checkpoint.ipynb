{
 "cells": [
  {
   "cell_type": "code",
   "execution_count": 1,
   "id": "2ec3f258-b1c1-4c3a-bd85-d6084f172e78",
   "metadata": {},
   "outputs": [
    {
     "name": "stdout",
     "output_type": "stream",
     "text": [
      "處理中：sub-01，ROI 檔案 = sub-01_roi1_zscore_ts.csv，RSN 檔案 = sub-01_DMN_zscore_ts.csv\n",
      "處理中：sub-01，ROI 檔案 = sub-01_roi1_zscore_ts.csv，RSN 檔案 = sub-01_FPN_zscore_ts.csv\n",
      "處理中：sub-01，ROI 檔案 = sub-01_roi1_zscore_ts.csv，RSN 檔案 = sub-01_SN_zscore_ts.csv\n",
      "處理中：sub-01，ROI 檔案 = sub-01_roi2_zscore_ts.csv，RSN 檔案 = sub-01_DMN_zscore_ts.csv\n",
      "處理中：sub-01，ROI 檔案 = sub-01_roi2_zscore_ts.csv，RSN 檔案 = sub-01_FPN_zscore_ts.csv\n",
      "處理中：sub-01，ROI 檔案 = sub-01_roi2_zscore_ts.csv，RSN 檔案 = sub-01_SN_zscore_ts.csv\n",
      "處理中：sub-02，ROI 檔案 = sub-02_roi1_zscore_ts.csv，RSN 檔案 = sub-02_DMN_zscore_ts.csv\n",
      "處理中：sub-02，ROI 檔案 = sub-02_roi1_zscore_ts.csv，RSN 檔案 = sub-02_FPN_zscore_ts.csv\n",
      "處理中：sub-02，ROI 檔案 = sub-02_roi1_zscore_ts.csv，RSN 檔案 = sub-02_SN_zscore_ts.csv\n",
      "處理中：sub-02，ROI 檔案 = sub-02_roi2_zscore_ts.csv，RSN 檔案 = sub-02_DMN_zscore_ts.csv\n",
      "處理中：sub-02，ROI 檔案 = sub-02_roi2_zscore_ts.csv，RSN 檔案 = sub-02_FPN_zscore_ts.csv\n",
      "處理中：sub-02，ROI 檔案 = sub-02_roi2_zscore_ts.csv，RSN 檔案 = sub-02_SN_zscore_ts.csv\n",
      "處理中：sub-03，ROI 檔案 = sub-03_roi1_zscore_ts.csv，RSN 檔案 = sub-03_DMN_zscore_ts.csv\n",
      "處理中：sub-03，ROI 檔案 = sub-03_roi1_zscore_ts.csv，RSN 檔案 = sub-03_FPN_zscore_ts.csv\n",
      "處理中：sub-03，ROI 檔案 = sub-03_roi1_zscore_ts.csv，RSN 檔案 = sub-03_SN_zscore_ts.csv\n",
      "處理中：sub-03，ROI 檔案 = sub-03_roi2_zscore_ts.csv，RSN 檔案 = sub-03_DMN_zscore_ts.csv\n",
      "處理中：sub-03，ROI 檔案 = sub-03_roi2_zscore_ts.csv，RSN 檔案 = sub-03_FPN_zscore_ts.csv\n",
      "處理中：sub-03，ROI 檔案 = sub-03_roi2_zscore_ts.csv，RSN 檔案 = sub-03_SN_zscore_ts.csv\n",
      "處理中：sub-04，ROI 檔案 = sub-04_roi1_zscore_ts.csv，RSN 檔案 = sub-04_DMN_zscore_ts.csv\n",
      "處理中：sub-04，ROI 檔案 = sub-04_roi1_zscore_ts.csv，RSN 檔案 = sub-04_FPN_zscore_ts.csv\n",
      "處理中：sub-04，ROI 檔案 = sub-04_roi1_zscore_ts.csv，RSN 檔案 = sub-04_SN_zscore_ts.csv\n",
      "處理中：sub-04，ROI 檔案 = sub-04_roi2_zscore_ts.csv，RSN 檔案 = sub-04_DMN_zscore_ts.csv\n",
      "處理中：sub-04，ROI 檔案 = sub-04_roi2_zscore_ts.csv，RSN 檔案 = sub-04_FPN_zscore_ts.csv\n",
      "處理中：sub-04，ROI 檔案 = sub-04_roi2_zscore_ts.csv，RSN 檔案 = sub-04_SN_zscore_ts.csv\n",
      "處理中：sub-05，ROI 檔案 = sub-05_roi1_zscore_clean_ts.csv，RSN 檔案 = sub-05_DMN_zscore_clean_ts.csv\n",
      "處理中：sub-05，ROI 檔案 = sub-05_roi1_zscore_clean_ts.csv，RSN 檔案 = sub-05_FPN_zscore_clean_ts.csv\n",
      "處理中：sub-05，ROI 檔案 = sub-05_roi1_zscore_clean_ts.csv，RSN 檔案 = sub-05_SN_zscore_clean_ts.csv\n",
      "處理中：sub-05，ROI 檔案 = sub-05_roi2_zscore_clean_ts.csv，RSN 檔案 = sub-05_DMN_zscore_clean_ts.csv\n",
      "處理中：sub-05，ROI 檔案 = sub-05_roi2_zscore_clean_ts.csv，RSN 檔案 = sub-05_FPN_zscore_clean_ts.csv\n",
      "處理中：sub-05，ROI 檔案 = sub-05_roi2_zscore_clean_ts.csv，RSN 檔案 = sub-05_SN_zscore_clean_ts.csv\n",
      "處理中：sub-06，ROI 檔案 = sub-06_roi1_zscore_ts.csv，RSN 檔案 = sub-06_DMN_zscore_ts.csv\n",
      "處理中：sub-06，ROI 檔案 = sub-06_roi1_zscore_ts.csv，RSN 檔案 = sub-06_FPN_zscore_ts.csv\n",
      "處理中：sub-06，ROI 檔案 = sub-06_roi1_zscore_ts.csv，RSN 檔案 = sub-06_SN_zscore_ts.csv\n",
      "處理中：sub-06，ROI 檔案 = sub-06_roi2_zscore_ts.csv，RSN 檔案 = sub-06_DMN_zscore_ts.csv\n",
      "處理中：sub-06，ROI 檔案 = sub-06_roi2_zscore_ts.csv，RSN 檔案 = sub-06_FPN_zscore_ts.csv\n",
      "處理中：sub-06，ROI 檔案 = sub-06_roi2_zscore_ts.csv，RSN 檔案 = sub-06_SN_zscore_ts.csv\n",
      "已儲存相關性表格至：output/roi_rsn_correlation.csv\n"
     ]
    }
   ],
   "source": [
    "### 計算 correlation ###\n",
    "\n",
    "import os\n",
    "import pandas as pd\n",
    "import numpy as np\n",
    "\n",
    "# === 參數設定 ===\n",
    "subjects = [f\"sub-{i:02d}\" for i in range(1, 7)]\n",
    "roi_labels = [\"roi1\", \"roi2\"]\n",
    "rsn_labels = [\"DMN\", \"FPN\", \"SN\"]\n",
    "\n",
    "# === 資料夾路徑 ===\n",
    "roi_dir = \"output/roi_ts_zscore_nan\"\n",
    "rsn_dir = \"output/rsn_ts_zscore\"\n",
    "\n",
    "# === 輸出檔案 ===\n",
    "output_path = \"output/roi_rsn_correlation.csv\"\n",
    "results = []\n",
    "\n",
    "# === 逐一處理每位受試者 ===\n",
    "for sub in subjects:\n",
    "    for roi in roi_labels:\n",
    "        roi_filename = (\n",
    "            f\"{sub}_{roi}_zscore_clean_ts.csv\" if sub == \"sub-05\"\n",
    "            else f\"{sub}_{roi}_zscore_ts.csv\"\n",
    "        )\n",
    "        roi_path = os.path.join(roi_dir, roi_filename)\n",
    "        if not os.path.exists(roi_path):\n",
    "            print(f\"找不到 ROI 檔案：{roi_path}\")\n",
    "            continue\n",
    "        roi_ts = pd.read_csv(roi_path, header=0 if sub == \"sub-05\" else None).squeeze()\n",
    "\n",
    "        for rsn in rsn_labels:\n",
    "            rsn_filename = (\n",
    "                f\"{sub}_{rsn}_zscore_clean_ts.csv\" if sub == \"sub-05\"\n",
    "                else f\"{sub}_{rsn}_zscore_ts.csv\"\n",
    "            )\n",
    "            rsn_path = os.path.join(rsn_dir, rsn_filename)\n",
    "            if not os.path.exists(rsn_path):\n",
    "                print(f\"找不到 RSN 檔案：{rsn_path}\")\n",
    "                continue\n",
    "            rsn_ts = pd.read_csv(rsn_path, header=0 if sub == \"sub-05\" else None).squeeze()\n",
    "\n",
    "            print(f\"處理中：{sub}，ROI 檔案 = {roi_filename}，RSN 檔案 = {rsn_filename}\")\n",
    "\n",
    "            if len(roi_ts) != len(rsn_ts):\n",
    "                print(f\"長度不一致：{sub} - {roi} vs {rsn} ({len(roi_ts)} vs {len(rsn_ts)})\")\n",
    "                continue\n",
    "\n",
    "            corr = np.corrcoef(roi_ts, rsn_ts)[0, 1]\n",
    "            results.append({\n",
    "                \"Subject\": sub,\n",
    "                \"ROI\": roi,\n",
    "                \"RSN\": rsn,\n",
    "                \"Correlation\": corr\n",
    "            })\n",
    "\n",
    "# === 儲存相關性表格 ===\n",
    "df_corr = pd.DataFrame(results)\n",
    "df_corr.to_csv(output_path, index=False)\n",
    "print(f\"已儲存相關性表格至：{output_path}\")"
   ]
  },
  {
   "cell_type": "code",
   "execution_count": 2,
   "id": "da1c61b1-4126-42f4-a4b9-39373c756811",
   "metadata": {},
   "outputs": [
    {
     "name": "stdout",
     "output_type": "stream",
     "text": [
      "檔案是否存在？ True\n",
      "檔案大小： 1283 bytes\n"
     ]
    }
   ],
   "source": [
    "import os\n",
    "\n",
    "file_path = \"output/roi_rsn_correlation.csv\"\n",
    "print(\"檔案是否存在？\", os.path.exists(file_path))\n",
    "print(\"檔案大小：\", os.path.getsize(file_path), \"bytes\")"
   ]
  },
  {
   "cell_type": "code",
   "execution_count": 3,
   "id": "6d35f25e-ea96-4c38-921f-1ab576685e93",
   "metadata": {},
   "outputs": [
    {
     "data": {
      "text/html": [
       "<div>\n",
       "<style scoped>\n",
       "    .dataframe tbody tr th:only-of-type {\n",
       "        vertical-align: middle;\n",
       "    }\n",
       "\n",
       "    .dataframe tbody tr th {\n",
       "        vertical-align: top;\n",
       "    }\n",
       "\n",
       "    .dataframe thead th {\n",
       "        text-align: right;\n",
       "    }\n",
       "</style>\n",
       "<table border=\"1\" class=\"dataframe\">\n",
       "  <thead>\n",
       "    <tr style=\"text-align: right;\">\n",
       "      <th></th>\n",
       "      <th>Subject</th>\n",
       "      <th>ROI</th>\n",
       "      <th>RSN</th>\n",
       "      <th>Correlation</th>\n",
       "    </tr>\n",
       "  </thead>\n",
       "  <tbody>\n",
       "    <tr>\n",
       "      <th>0</th>\n",
       "      <td>sub-01</td>\n",
       "      <td>roi1</td>\n",
       "      <td>DMN</td>\n",
       "      <td>0.543869</td>\n",
       "    </tr>\n",
       "    <tr>\n",
       "      <th>1</th>\n",
       "      <td>sub-01</td>\n",
       "      <td>roi1</td>\n",
       "      <td>FPN</td>\n",
       "      <td>0.590058</td>\n",
       "    </tr>\n",
       "    <tr>\n",
       "      <th>2</th>\n",
       "      <td>sub-01</td>\n",
       "      <td>roi1</td>\n",
       "      <td>SN</td>\n",
       "      <td>0.689548</td>\n",
       "    </tr>\n",
       "    <tr>\n",
       "      <th>3</th>\n",
       "      <td>sub-01</td>\n",
       "      <td>roi2</td>\n",
       "      <td>DMN</td>\n",
       "      <td>0.567779</td>\n",
       "    </tr>\n",
       "    <tr>\n",
       "      <th>4</th>\n",
       "      <td>sub-01</td>\n",
       "      <td>roi2</td>\n",
       "      <td>FPN</td>\n",
       "      <td>0.582917</td>\n",
       "    </tr>\n",
       "  </tbody>\n",
       "</table>\n",
       "</div>"
      ],
      "text/plain": [
       "  Subject   ROI  RSN  Correlation\n",
       "0  sub-01  roi1  DMN     0.543869\n",
       "1  sub-01  roi1  FPN     0.590058\n",
       "2  sub-01  roi1   SN     0.689548\n",
       "3  sub-01  roi2  DMN     0.567779\n",
       "4  sub-01  roi2  FPN     0.582917"
      ]
     },
     "execution_count": 3,
     "metadata": {},
     "output_type": "execute_result"
    }
   ],
   "source": [
    "import pandas as pd\n",
    "\n",
    "df = pd.read_csv(\"output/roi_rsn_correlation.csv\")\n",
    "df.head()  # 顯示前 5 筆資料"
   ]
  },
  {
   "cell_type": "code",
   "execution_count": 4,
   "id": "3e4c47e2-c71d-4a55-a30f-ca27342d3a8b",
   "metadata": {},
   "outputs": [],
   "source": [
    "### show the whole table\n",
    "#from IPython.display import display\n",
    "#display(df)"
   ]
  },
  {
   "cell_type": "code",
   "execution_count": 11,
   "id": "98012ad7-2c39-48bc-90db-089930e64357",
   "metadata": {},
   "outputs": [],
   "source": [
    "### participnts"
   ]
  },
  {
   "cell_type": "code",
   "execution_count": 20,
   "id": "ba4d2c16-086a-4937-b085-fab1d0ee0792",
   "metadata": {},
   "outputs": [
    {
     "data": {
      "text/html": [
       "<div>\n",
       "<style scoped>\n",
       "    .dataframe tbody tr th:only-of-type {\n",
       "        vertical-align: middle;\n",
       "    }\n",
       "\n",
       "    .dataframe tbody tr th {\n",
       "        vertical-align: top;\n",
       "    }\n",
       "\n",
       "    .dataframe thead th {\n",
       "        text-align: right;\n",
       "    }\n",
       "</style>\n",
       "<table border=\"1\" class=\"dataframe\">\n",
       "  <thead>\n",
       "    <tr style=\"text-align: right;\">\n",
       "      <th></th>\n",
       "      <th>participant_id</th>\n",
       "      <th>age</th>\n",
       "      <th>sex</th>\n",
       "      <th>hand</th>\n",
       "    </tr>\n",
       "  </thead>\n",
       "  <tbody>\n",
       "    <tr>\n",
       "      <th>0</th>\n",
       "      <td>sub-01</td>\n",
       "      <td>25</td>\n",
       "      <td>M</td>\n",
       "      <td>R</td>\n",
       "    </tr>\n",
       "    <tr>\n",
       "      <th>1</th>\n",
       "      <td>sub-02</td>\n",
       "      <td>30</td>\n",
       "      <td>F</td>\n",
       "      <td>R</td>\n",
       "    </tr>\n",
       "    <tr>\n",
       "      <th>2</th>\n",
       "      <td>sub-03</td>\n",
       "      <td>26</td>\n",
       "      <td>M</td>\n",
       "      <td>R</td>\n",
       "    </tr>\n",
       "    <tr>\n",
       "      <th>3</th>\n",
       "      <td>sub-04</td>\n",
       "      <td>28</td>\n",
       "      <td>M</td>\n",
       "      <td>R</td>\n",
       "    </tr>\n",
       "    <tr>\n",
       "      <th>4</th>\n",
       "      <td>sub-05</td>\n",
       "      <td>26</td>\n",
       "      <td>M</td>\n",
       "      <td>R</td>\n",
       "    </tr>\n",
       "  </tbody>\n",
       "</table>\n",
       "</div>"
      ],
      "text/plain": [
       "  participant_id  age sex hand\n",
       "0         sub-01   25   M    R\n",
       "1         sub-02   30   F    R\n",
       "2         sub-03   26   M    R\n",
       "3         sub-04   28   M    R\n",
       "4         sub-05   26   M    R"
      ]
     },
     "execution_count": 20,
     "metadata": {},
     "output_type": "execute_result"
    }
   ],
   "source": [
    "participants = pd.read_csv(\"raw_data/ds004078/participants.tsv\", sep=\"\\t\")\n",
    "participants.head()  # 顯示前 5 筆資料"
   ]
  },
  {
   "cell_type": "code",
   "execution_count": 21,
   "id": "d0255ceb-9aff-4bc0-83b3-0ac113b7cb42",
   "metadata": {},
   "outputs": [
    {
     "data": {
      "text/html": [
       "<div>\n",
       "<style scoped>\n",
       "    .dataframe tbody tr th:only-of-type {\n",
       "        vertical-align: middle;\n",
       "    }\n",
       "\n",
       "    .dataframe tbody tr th {\n",
       "        vertical-align: top;\n",
       "    }\n",
       "\n",
       "    .dataframe thead th {\n",
       "        text-align: right;\n",
       "    }\n",
       "</style>\n",
       "<table border=\"1\" class=\"dataframe\">\n",
       "  <thead>\n",
       "    <tr style=\"text-align: right;\">\n",
       "      <th></th>\n",
       "      <th>participant_id</th>\n",
       "      <th>age</th>\n",
       "      <th>sex</th>\n",
       "      <th>hand</th>\n",
       "    </tr>\n",
       "  </thead>\n",
       "  <tbody>\n",
       "    <tr>\n",
       "      <th>0</th>\n",
       "      <td>sub-01</td>\n",
       "      <td>25</td>\n",
       "      <td>M</td>\n",
       "      <td>R</td>\n",
       "    </tr>\n",
       "    <tr>\n",
       "      <th>1</th>\n",
       "      <td>sub-02</td>\n",
       "      <td>30</td>\n",
       "      <td>F</td>\n",
       "      <td>R</td>\n",
       "    </tr>\n",
       "    <tr>\n",
       "      <th>2</th>\n",
       "      <td>sub-03</td>\n",
       "      <td>26</td>\n",
       "      <td>M</td>\n",
       "      <td>R</td>\n",
       "    </tr>\n",
       "    <tr>\n",
       "      <th>3</th>\n",
       "      <td>sub-04</td>\n",
       "      <td>28</td>\n",
       "      <td>M</td>\n",
       "      <td>R</td>\n",
       "    </tr>\n",
       "    <tr>\n",
       "      <th>4</th>\n",
       "      <td>sub-05</td>\n",
       "      <td>26</td>\n",
       "      <td>M</td>\n",
       "      <td>R</td>\n",
       "    </tr>\n",
       "    <tr>\n",
       "      <th>5</th>\n",
       "      <td>sub-06</td>\n",
       "      <td>25</td>\n",
       "      <td>M</td>\n",
       "      <td>R</td>\n",
       "    </tr>\n",
       "  </tbody>\n",
       "</table>\n",
       "</div>"
      ],
      "text/plain": [
       "  participant_id  age sex hand\n",
       "0         sub-01   25   M    R\n",
       "1         sub-02   30   F    R\n",
       "2         sub-03   26   M    R\n",
       "3         sub-04   28   M    R\n",
       "4         sub-05   26   M    R\n",
       "5         sub-06   25   M    R"
      ]
     },
     "execution_count": 21,
     "metadata": {},
     "output_type": "execute_result"
    }
   ],
   "source": [
    "# 定義你實際分析的受試者\n",
    "used_subjects = [f\"sub-{i:02d}\" for i in range(1, 7)]\n",
    "\n",
    "# 篩選 participants 中的資料\n",
    "participants_used = participants[participants[\"participant_id\"].isin(used_subjects)]\n",
    "\n",
    "# 顯示篩選後的資料\n",
    "participants_used"
   ]
  },
  {
   "cell_type": "code",
   "execution_count": 32,
   "id": "cd54e795-b2f3-4f8d-bb52-36f39f2a60d9",
   "metadata": {},
   "outputs": [
    {
     "data": {
      "text/plain": [
       "count     6.000000\n",
       "mean     26.666667\n",
       "std       1.966384\n",
       "min      25.000000\n",
       "25%      25.250000\n",
       "50%      26.000000\n",
       "75%      27.500000\n",
       "max      30.000000\n",
       "Name: age, dtype: float64"
      ]
     },
     "execution_count": 32,
     "metadata": {},
     "output_type": "execute_result"
    }
   ],
   "source": [
    "participants_used[\"age\"].describe()"
   ]
  },
  {
   "cell_type": "code",
   "execution_count": 33,
   "id": "cb4595ea-86c2-4d8a-8125-45d89564670e",
   "metadata": {},
   "outputs": [
    {
     "data": {
      "text/plain": [
       "sex\n",
       "M    5\n",
       "F    1\n",
       "Name: count, dtype: int64"
      ]
     },
     "execution_count": 33,
     "metadata": {},
     "output_type": "execute_result"
    }
   ],
   "source": [
    "participants_used[\"sex\"].value_counts()"
   ]
  },
  {
   "cell_type": "code",
   "execution_count": null,
   "id": "14a842da-8a6b-4d26-ae57-ee3c5849c460",
   "metadata": {},
   "outputs": [],
   "source": [
    "### quiz"
   ]
  },
  {
   "cell_type": "code",
   "execution_count": 28,
   "id": "8f20a45a-3820-45de-b366-43cfc08f6960",
   "metadata": {},
   "outputs": [
    {
     "data": {
      "text/html": [
       "<div>\n",
       "<style scoped>\n",
       "    .dataframe tbody tr th:only-of-type {\n",
       "        vertical-align: middle;\n",
       "    }\n",
       "\n",
       "    .dataframe tbody tr th {\n",
       "        vertical-align: top;\n",
       "    }\n",
       "\n",
       "    .dataframe thead th {\n",
       "        text-align: right;\n",
       "    }\n",
       "</style>\n",
       "<table border=\"1\" class=\"dataframe\">\n",
       "  <thead>\n",
       "    <tr style=\"text-align: right;\">\n",
       "      <th></th>\n",
       "      <th>Subject</th>\n",
       "      <th>fMRI_accuracy</th>\n",
       "    </tr>\n",
       "  </thead>\n",
       "  <tbody>\n",
       "    <tr>\n",
       "      <th>0</th>\n",
       "      <td>sub-01</td>\n",
       "      <td>94.17</td>\n",
       "    </tr>\n",
       "    <tr>\n",
       "      <th>1</th>\n",
       "      <td>sub-02</td>\n",
       "      <td>89.17</td>\n",
       "    </tr>\n",
       "    <tr>\n",
       "      <th>2</th>\n",
       "      <td>sub-03</td>\n",
       "      <td>92.50</td>\n",
       "    </tr>\n",
       "    <tr>\n",
       "      <th>3</th>\n",
       "      <td>sub-04</td>\n",
       "      <td>82.50</td>\n",
       "    </tr>\n",
       "    <tr>\n",
       "      <th>4</th>\n",
       "      <td>sub-05</td>\n",
       "      <td>85.00</td>\n",
       "    </tr>\n",
       "    <tr>\n",
       "      <th>5</th>\n",
       "      <td>sub-06</td>\n",
       "      <td>89.17</td>\n",
       "    </tr>\n",
       "  </tbody>\n",
       "</table>\n",
       "</div>"
      ],
      "text/plain": [
       "  Subject  fMRI_accuracy\n",
       "0  sub-01          94.17\n",
       "1  sub-02          89.17\n",
       "2  sub-03          92.50\n",
       "3  sub-04          82.50\n",
       "4  sub-05          85.00\n",
       "5  sub-06          89.17"
      ]
     },
     "execution_count": 28,
     "metadata": {},
     "output_type": "execute_result"
    }
   ],
   "source": [
    "import pandas as pd\n",
    "\n",
    "quiz_accuracy = pd.DataFrame({\n",
    "    \"Subject\": [\"sub-01\", \"sub-02\", \"sub-03\", \"sub-04\", \"sub-05\", \"sub-06\"],\n",
    "    \"fMRI_accuracy\": [94.17, 89.17, 92.50, 82.50, 85.00, 89.17]  # 引自原文 Table 1\n",
    "})\n",
    "\n",
    "quiz_accuracy"
   ]
  },
  {
   "cell_type": "code",
   "execution_count": 53,
   "id": "06ed7377-11d0-4958-9e44-aa1f92ca0740",
   "metadata": {},
   "outputs": [
    {
     "data": {
      "text/html": [
       "<div>\n",
       "<style scoped>\n",
       "    .dataframe tbody tr th:only-of-type {\n",
       "        vertical-align: middle;\n",
       "    }\n",
       "\n",
       "    .dataframe tbody tr th {\n",
       "        vertical-align: top;\n",
       "    }\n",
       "\n",
       "    .dataframe thead th {\n",
       "        text-align: right;\n",
       "    }\n",
       "</style>\n",
       "<table border=\"1\" class=\"dataframe\">\n",
       "  <thead>\n",
       "    <tr style=\"text-align: right;\">\n",
       "      <th></th>\n",
       "      <th>Subject</th>\n",
       "      <th>age</th>\n",
       "      <th>sex</th>\n",
       "      <th>hand</th>\n",
       "      <th>fMRI_accuracy</th>\n",
       "      <th>ROI</th>\n",
       "      <th>RSN</th>\n",
       "      <th>Correlation</th>\n",
       "    </tr>\n",
       "  </thead>\n",
       "  <tbody>\n",
       "    <tr>\n",
       "      <th>0</th>\n",
       "      <td>sub-01</td>\n",
       "      <td>25</td>\n",
       "      <td>M</td>\n",
       "      <td>R</td>\n",
       "      <td>94.17</td>\n",
       "      <td>roi1</td>\n",
       "      <td>DMN</td>\n",
       "      <td>0.543869</td>\n",
       "    </tr>\n",
       "    <tr>\n",
       "      <th>1</th>\n",
       "      <td>sub-01</td>\n",
       "      <td>25</td>\n",
       "      <td>M</td>\n",
       "      <td>R</td>\n",
       "      <td>94.17</td>\n",
       "      <td>roi1</td>\n",
       "      <td>FPN</td>\n",
       "      <td>0.590058</td>\n",
       "    </tr>\n",
       "    <tr>\n",
       "      <th>2</th>\n",
       "      <td>sub-01</td>\n",
       "      <td>25</td>\n",
       "      <td>M</td>\n",
       "      <td>R</td>\n",
       "      <td>94.17</td>\n",
       "      <td>roi1</td>\n",
       "      <td>SN</td>\n",
       "      <td>0.689548</td>\n",
       "    </tr>\n",
       "    <tr>\n",
       "      <th>3</th>\n",
       "      <td>sub-01</td>\n",
       "      <td>25</td>\n",
       "      <td>M</td>\n",
       "      <td>R</td>\n",
       "      <td>94.17</td>\n",
       "      <td>roi2</td>\n",
       "      <td>DMN</td>\n",
       "      <td>0.567779</td>\n",
       "    </tr>\n",
       "    <tr>\n",
       "      <th>4</th>\n",
       "      <td>sub-01</td>\n",
       "      <td>25</td>\n",
       "      <td>M</td>\n",
       "      <td>R</td>\n",
       "      <td>94.17</td>\n",
       "      <td>roi2</td>\n",
       "      <td>FPN</td>\n",
       "      <td>0.582917</td>\n",
       "    </tr>\n",
       "    <tr>\n",
       "      <th>5</th>\n",
       "      <td>sub-01</td>\n",
       "      <td>25</td>\n",
       "      <td>M</td>\n",
       "      <td>R</td>\n",
       "      <td>94.17</td>\n",
       "      <td>roi2</td>\n",
       "      <td>SN</td>\n",
       "      <td>0.685132</td>\n",
       "    </tr>\n",
       "    <tr>\n",
       "      <th>6</th>\n",
       "      <td>sub-02</td>\n",
       "      <td>30</td>\n",
       "      <td>F</td>\n",
       "      <td>R</td>\n",
       "      <td>89.17</td>\n",
       "      <td>roi1</td>\n",
       "      <td>DMN</td>\n",
       "      <td>0.078394</td>\n",
       "    </tr>\n",
       "    <tr>\n",
       "      <th>7</th>\n",
       "      <td>sub-02</td>\n",
       "      <td>30</td>\n",
       "      <td>F</td>\n",
       "      <td>R</td>\n",
       "      <td>89.17</td>\n",
       "      <td>roi1</td>\n",
       "      <td>FPN</td>\n",
       "      <td>0.371417</td>\n",
       "    </tr>\n",
       "    <tr>\n",
       "      <th>8</th>\n",
       "      <td>sub-02</td>\n",
       "      <td>30</td>\n",
       "      <td>F</td>\n",
       "      <td>R</td>\n",
       "      <td>89.17</td>\n",
       "      <td>roi1</td>\n",
       "      <td>SN</td>\n",
       "      <td>0.636662</td>\n",
       "    </tr>\n",
       "    <tr>\n",
       "      <th>9</th>\n",
       "      <td>sub-02</td>\n",
       "      <td>30</td>\n",
       "      <td>F</td>\n",
       "      <td>R</td>\n",
       "      <td>89.17</td>\n",
       "      <td>roi2</td>\n",
       "      <td>DMN</td>\n",
       "      <td>0.178359</td>\n",
       "    </tr>\n",
       "    <tr>\n",
       "      <th>10</th>\n",
       "      <td>sub-02</td>\n",
       "      <td>30</td>\n",
       "      <td>F</td>\n",
       "      <td>R</td>\n",
       "      <td>89.17</td>\n",
       "      <td>roi2</td>\n",
       "      <td>FPN</td>\n",
       "      <td>0.317377</td>\n",
       "    </tr>\n",
       "    <tr>\n",
       "      <th>11</th>\n",
       "      <td>sub-02</td>\n",
       "      <td>30</td>\n",
       "      <td>F</td>\n",
       "      <td>R</td>\n",
       "      <td>89.17</td>\n",
       "      <td>roi2</td>\n",
       "      <td>SN</td>\n",
       "      <td>0.505018</td>\n",
       "    </tr>\n",
       "  </tbody>\n",
       "</table>\n",
       "</div>"
      ],
      "text/plain": [
       "   Subject  age sex hand  fMRI_accuracy   ROI  RSN  Correlation\n",
       "0   sub-01   25   M    R          94.17  roi1  DMN     0.543869\n",
       "1   sub-01   25   M    R          94.17  roi1  FPN     0.590058\n",
       "2   sub-01   25   M    R          94.17  roi1   SN     0.689548\n",
       "3   sub-01   25   M    R          94.17  roi2  DMN     0.567779\n",
       "4   sub-01   25   M    R          94.17  roi2  FPN     0.582917\n",
       "5   sub-01   25   M    R          94.17  roi2   SN     0.685132\n",
       "6   sub-02   30   F    R          89.17  roi1  DMN     0.078394\n",
       "7   sub-02   30   F    R          89.17  roi1  FPN     0.371417\n",
       "8   sub-02   30   F    R          89.17  roi1   SN     0.636662\n",
       "9   sub-02   30   F    R          89.17  roi2  DMN     0.178359\n",
       "10  sub-02   30   F    R          89.17  roi2  FPN     0.317377\n",
       "11  sub-02   30   F    R          89.17  roi2   SN     0.505018"
      ]
     },
     "execution_count": 53,
     "metadata": {},
     "output_type": "execute_result"
    }
   ],
   "source": [
    "import pandas as pd\n",
    "\n",
    "# Step 1: 統一欄位名稱為 \"Subject\"\n",
    "participants_used = participants_used.rename(columns={\"participant_id\": \"Subject\"})\n",
    "\n",
    "# Step 2: 合併人口學與行為資料\n",
    "demo_behavior = pd.merge(participants_used, quiz_accuracy, on=\"Subject\")\n",
    "\n",
    "# Step 3: 合併到 correlation 資料（corr_df）\n",
    "merged_df = pd.merge(df, demo_behavior, on=\"Subject\")\n",
    "\n",
    "# Step 4: 調整欄位順序（Subject 最左，再來人口學與行為，再來 correlation 資訊）\n",
    "cols = [\"Subject\", \"age\", \"sex\", \"hand\", \"fMRI_accuracy\", \"ROI\", \"RSN\", \"Correlation\"]\n",
    "merged_df = merged_df[cols]\n",
    "\n",
    "# 查看結果\n",
    "merged_df.head(12)"
   ]
  },
  {
   "cell_type": "code",
   "execution_count": 54,
   "id": "ebece770-02ef-442f-bab9-b37e4fe34bb1",
   "metadata": {},
   "outputs": [],
   "source": [
    "# 建立儲存資料夾（如尚未存在）\n",
    "import os\n",
    "os.makedirs(\"output\", exist_ok=True)\n",
    "\n",
    "# 儲存 demo_behavior（人口學 + 行為）\n",
    "demo_behavior.to_csv(\"output/demo_behavior.csv\", index=False)\n",
    "\n",
    "# 儲存 merged_df（人口學 + 行為 + correlation 資料）\n",
    "merged_df.to_csv(\"output/roi_rsn_correlation_full.csv\", index=False)"
   ]
  },
  {
   "cell_type": "code",
   "execution_count": 40,
   "id": "347399f7-95d6-4ce6-96a4-6a46b6f849ae",
   "metadata": {},
   "outputs": [
    {
     "data": {
      "text/plain": [
       "count    36.000000\n",
       "mean     88.751667\n",
       "std       4.076063\n",
       "min      82.500000\n",
       "25%      85.000000\n",
       "50%      89.170000\n",
       "75%      92.500000\n",
       "max      94.170000\n",
       "Name: fMRI_accuracy, dtype: float64"
      ]
     },
     "execution_count": 40,
     "metadata": {},
     "output_type": "execute_result"
    }
   ],
   "source": [
    "merged_df[\"fMRI_accuracy\"].describe()"
   ]
  },
  {
   "cell_type": "code",
   "execution_count": null,
   "id": "69fb9b4a-d20a-443e-927b-bd762c2f0f2f",
   "metadata": {},
   "outputs": [],
   "source": [
    "### figure"
   ]
  },
  {
   "cell_type": "code",
   "execution_count": 52,
   "id": "22341952-3fa3-4464-866e-fea4ab4f44d9",
   "metadata": {},
   "outputs": [
    {
     "data": {
      "image/png": "[encoded data removed]",
      "text/plain": [
       "<Figure size 1200x500 with 2 Axes>"
      ]
     },
     "metadata": {},
     "output_type": "display_data"
    }
   ],
   "source": [
    "import seaborn as sns\n",
    "import matplotlib.pyplot as plt\n",
    "import os\n",
    "\n",
    "# 自訂 RSN 色彩\n",
    "rsn_palette = {\n",
    "    \"DMN\": \"#8da0cb\",\n",
    "    \"FPN\": \"#66c2a5\",\n",
    "    \"SN\":  \"#fc8d62\"\n",
    "}\n",
    "\n",
    "# 取得 ROI 名單\n",
    "roi_list = merged_df[\"ROI\"].unique()\n",
    "\n",
    "# 建立圖形（兩張圖並排）\n",
    "fig, axes = plt.subplots(1, 2, figsize=(12, 5), sharey=True)\n",
    "\n",
    "for i, roi in enumerate(roi_list):\n",
    "    roi_df = merged_df[merged_df[\"ROI\"] == roi]\n",
    "    sns.boxplot(\n",
    "        data=roi_df,\n",
    "        x=\"RSN\",\n",
    "        y=\"Correlation\",\n",
    "        hue=\"RSN\",  # 為了 palette 指定\n",
    "        palette=rsn_palette,\n",
    "        ax=axes[i],\n",
    "        legend=False\n",
    "    )\n",
    "    axes[i].set_title(f\"{roi} – RSN Correlation\")\n",
    "    axes[i].set_ylim(-1, 1)\n",
    "    axes[i].grid(True)\n",
    "    axes[i].set_xlabel(\"RSN\")\n",
    "    if i == 0:\n",
    "        axes[i].set_ylabel(\"Correlation\")\n",
    "    else:\n",
    "        axes[i].set_ylabel(\"\")\n",
    "\n",
    "# 排版\n",
    "plt.tight_layout()\n",
    "\n",
    "# 建立儲存資料夾（如尚未存在）\n",
    "output_dir = \"output/correlation figure\"\n",
    "os.makedirs(output_dir, exist_ok=True)\n",
    "\n",
    "# 儲存圖檔（可改成 .svg, .pdf 等格式）\n",
    "output_path = os.path.join(output_dir, \"roi_rsn_correlation_boxplot.png\")\n",
    "plt.savefig(output_path, dpi=300)\n",
    "\n",
    "# 顯示圖\n",
    "plt.show()"
   ]
  },
  {
   "cell_type": "code",
   "execution_count": 87,
   "id": "04b91f19-392f-483d-aaf5-a637897819bd",
   "metadata": {},
   "outputs": [
    {
     "data": {
      "image/png": "[encoded data removed]",
      "text/plain": [
       "<Figure size 1400x500 with 3 Axes>"
      ]
     },
     "metadata": {},
     "output_type": "display_data"
    }
   ],
   "source": [
    "import seaborn as sns\n",
    "import matplotlib.pyplot as plt\n",
    "import pandas as pd\n",
    "import os\n",
    "\n",
    "# 讀取資料\n",
    "df = pd.read_csv(\"output/roi_rsn_correlation.csv\")\n",
    "\n",
    "# 自訂每個 RSN × ROI 對應顏色\n",
    "custom_palette = {\n",
    "    (\"DMN\", \"roi1\"): \"#8da0cb\",\n",
    "    (\"DMN\", \"roi2\"): \"#b3cde3\",\n",
    "    (\"FPN\", \"roi1\"): \"#66c2a5\",\n",
    "    (\"FPN\", \"roi2\"): \"#a6dba0\",\n",
    "    (\"SN\",  \"roi1\"): \"#fc8d62\",\n",
    "    (\"SN\",  \"roi2\"): \"#fdbb84\"\n",
    "}\n",
    "\n",
    "# 增加 RSN_ROI 欄\n",
    "df[\"RSN_ROI\"] = df[\"RSN\"] + \"_\" + df[\"ROI\"]\n",
    "palette = {f\"{rsn}_{roi}\": color for (rsn, roi), color in custom_palette.items()}\n",
    "\n",
    "# 建立圖形\n",
    "fig, axes = plt.subplots(1, 3, figsize=(14, 5), sharey=True)\n",
    "rsn_list = [\"DMN\", \"FPN\", \"SN\"]\n",
    "legend_handles = []  # 用來儲存各圖 legend\n",
    "\n",
    "for i, rsn in enumerate(rsn_list):\n",
    "    rsn_df = df[df[\"RSN\"] == rsn].copy()\n",
    "    rsn_df[\"RSN_ROI\"] = rsn_df[\"RSN\"] + \"_\" + rsn_df[\"ROI\"]\n",
    "\n",
    "    # 畫圖\n",
    "    sns.barplot(data=rsn_df, x=\"Subject\", y=\"Correlation\", hue=\"RSN_ROI\",\n",
    "                palette=palette, ax=axes[i])\n",
    "    \n",
    "    axes[i].set_title(f\"{rsn} – ROI Correlation by Subject\")\n",
    "    axes[i].set_ylim(-0.3, 1)\n",
    "    axes[i].axhline(0, color=\"gray\", linestyle=\":\")\n",
    "    axes[i].grid(True)\n",
    "    axes[i].set_xlabel(\"\")\n",
    "    if i == 0:\n",
    "        axes[i].set_ylabel(\"Correlation\")\n",
    "    else:\n",
    "        axes[i].set_ylabel(\"\")\n",
    "\n",
    "    # 取得圖例 handles\n",
    "    handles, labels = axes[i].get_legend_handles_labels()\n",
    "    legend_handles.append((handles, labels))\n",
    "    axes[i].legend_.remove()  # 不要內建圖例\n",
    "\n",
    "# 🔽 在下方放三個圖例（分別對應三個 RSN）\n",
    "for j, (handles, labels) in enumerate(legend_handles):\n",
    "    fig.legend(\n",
    "        handles,\n",
    "        labels,\n",
    "        title=rsn_list[j],\n",
    "        loc='lower center',\n",
    "        bbox_to_anchor=(0.20 + 0.32 * j, +0.02),\n",
    "        ncol=2,\n",
    "        fontsize=\"small\",\n",
    "        title_fontsize=\"small\",\n",
    "        frameon=False\n",
    "    )\n",
    "\n",
    "# 排版調整：留空間給圖例\n",
    "plt.tight_layout(rect=[0, 0.12, 1, 1])\n",
    "\n",
    "# 儲存圖檔\n",
    "os.makedirs(\"output/correlation figure\", exist_ok=True)\n",
    "plt.savefig(\"output/correlation figure/roi_rsn_split_legends_bottom.png\", dpi=300)\n",
    "\n",
    "# 顯示圖\n",
    "plt.show()"
   ]
  },
  {
   "cell_type": "code",
   "execution_count": null,
   "id": "64e1a922-f6d8-4d63-82cf-ace9a94de469",
   "metadata": {},
   "outputs": [],
   "source": [
    "### Analysis: Correlation"
   ]
  },
  {
   "cell_type": "code",
   "execution_count": 88,
   "id": "4253fcbe-cc49-457f-b72c-8c89fbcfa23f",
   "metadata": {},
   "outputs": [
    {
     "data": {
      "text/html": [
       "<div>\n",
       "<style scoped>\n",
       "    .dataframe tbody tr th:only-of-type {\n",
       "        vertical-align: middle;\n",
       "    }\n",
       "\n",
       "    .dataframe tbody tr th {\n",
       "        vertical-align: top;\n",
       "    }\n",
       "\n",
       "    .dataframe thead th {\n",
       "        text-align: right;\n",
       "    }\n",
       "</style>\n",
       "<table border=\"1\" class=\"dataframe\">\n",
       "  <thead>\n",
       "    <tr style=\"text-align: right;\">\n",
       "      <th></th>\n",
       "      <th>Subject</th>\n",
       "      <th>ROI</th>\n",
       "      <th>RSN</th>\n",
       "      <th>Correlation</th>\n",
       "    </tr>\n",
       "  </thead>\n",
       "  <tbody>\n",
       "    <tr>\n",
       "      <th>0</th>\n",
       "      <td>sub-01</td>\n",
       "      <td>roi1</td>\n",
       "      <td>DMN</td>\n",
       "      <td>0.543869</td>\n",
       "    </tr>\n",
       "    <tr>\n",
       "      <th>1</th>\n",
       "      <td>sub-01</td>\n",
       "      <td>roi1</td>\n",
       "      <td>FPN</td>\n",
       "      <td>0.590058</td>\n",
       "    </tr>\n",
       "    <tr>\n",
       "      <th>2</th>\n",
       "      <td>sub-01</td>\n",
       "      <td>roi1</td>\n",
       "      <td>SN</td>\n",
       "      <td>0.689548</td>\n",
       "    </tr>\n",
       "    <tr>\n",
       "      <th>3</th>\n",
       "      <td>sub-01</td>\n",
       "      <td>roi2</td>\n",
       "      <td>DMN</td>\n",
       "      <td>0.567779</td>\n",
       "    </tr>\n",
       "    <tr>\n",
       "      <th>4</th>\n",
       "      <td>sub-01</td>\n",
       "      <td>roi2</td>\n",
       "      <td>FPN</td>\n",
       "      <td>0.582917</td>\n",
       "    </tr>\n",
       "  </tbody>\n",
       "</table>\n",
       "</div>"
      ],
      "text/plain": [
       "  Subject   ROI  RSN  Correlation\n",
       "0  sub-01  roi1  DMN     0.543869\n",
       "1  sub-01  roi1  FPN     0.590058\n",
       "2  sub-01  roi1   SN     0.689548\n",
       "3  sub-01  roi2  DMN     0.567779\n",
       "4  sub-01  roi2  FPN     0.582917"
      ]
     },
     "execution_count": 88,
     "metadata": {},
     "output_type": "execute_result"
    }
   ],
   "source": [
    "import pandas as pd\n",
    "\n",
    "df = pd.read_csv(\"output/roi_rsn_correlation.csv\")\n",
    "df.head()"
   ]
  },
  {
   "cell_type": "code",
   "execution_count": 89,
   "id": "d6dc056f-f8f7-4060-96af-002c5dfdf794",
   "metadata": {},
   "outputs": [
    {
     "name": "stdout",
     "output_type": "stream",
     "text": [
      "roi1: Friedman chi² = 8.333, p = 0.0155\n",
      "roi2: Friedman chi² = 9.333, p = 0.0094\n"
     ]
    }
   ],
   "source": [
    "from scipy.stats import friedmanchisquare\n",
    "\n",
    "for roi in roi_list:\n",
    "    roi_df = df[df[\"ROI\"] == roi]\n",
    "    dmn = roi_df[roi_df[\"RSN\"] == \"DMN\"].sort_values(\"Subject\")[\"Correlation\"]\n",
    "    fpn = roi_df[roi_df[\"RSN\"] == \"FPN\"].sort_values(\"Subject\")[\"Correlation\"]\n",
    "    sn  = roi_df[roi_df[\"RSN\"] == \"SN\"].sort_values(\"Subject\")[\"Correlation\"]\n",
    "\n",
    "    stat, p = friedmanchisquare(dmn, fpn, sn)\n",
    "    print(f\"{roi}: Friedman chi² = {stat:.3f}, p = {p:.4f}\")"
   ]
  },
  {
   "cell_type": "code",
   "execution_count": 92,
   "id": "469c5f0c-7457-48e8-ab26-e21b2975f1f6",
   "metadata": {},
   "outputs": [
    {
     "name": "stdout",
     "output_type": "stream",
     "text": [
      "roi1 pairwise comparisons:\n",
      "DMN vs FPN: W = 1.000, p = 0.0625\n",
      "DMN vs SN: W = 0.000, p = 0.0312\n",
      "FPN vs SN: W = 1.000, p = 0.0625\n",
      "roi2 pairwise comparisons:\n",
      "DMN vs FPN: W = 5.000, p = 0.3125\n",
      "DMN vs SN: W = 0.000, p = 0.0312\n",
      "FPN vs SN: W = 0.000, p = 0.0312\n"
     ]
    }
   ],
   "source": [
    "from scipy.stats import wilcoxon\n",
    "\n",
    "def pairwise_wilcoxon(df, roi_name):\n",
    "    roi_df = df[df[\"ROI\"] == roi_name]\n",
    "    pairs = [(\"DMN\", \"FPN\"), (\"DMN\", \"SN\"), (\"FPN\", \"SN\")]\n",
    "\n",
    "    print(f\"{roi_name} pairwise comparisons:\")\n",
    "    for a, b in pairs:\n",
    "        data_a = roi_df[roi_df[\"RSN\"] == a].sort_values(\"Subject\")[\"Correlation\"]\n",
    "        data_b = roi_df[roi_df[\"RSN\"] == b].sort_values(\"Subject\")[\"Correlation\"]\n",
    "        stat, p = wilcoxon(data_a, data_b)\n",
    "        print(f\"{a} vs {b}: W = {stat:.3f}, p = {p:.4f}\")\n",
    "\n",
    "# 執行對兩個 ROI 做成對比較\n",
    "pairwise_wilcoxon(df, \"roi1\")\n",
    "pairwise_wilcoxon(df, \"roi2\")"
   ]
  },
  {
   "cell_type": "code",
   "execution_count": 95,
   "id": "6dc4f248-7748-498f-b7c9-7cf66bceffea",
   "metadata": {},
   "outputs": [
    {
     "data": {
      "text/plain": [
       "ROI   RSN\n",
       "roi1  DMN    0.453324\n",
       "      FPN    0.520456\n",
       "      SN     0.652103\n",
       "roi2  DMN    0.514119\n",
       "      FPN    0.496501\n",
       "      SN     0.671520\n",
       "Name: Correlation, dtype: float64"
      ]
     },
     "execution_count": 95,
     "metadata": {},
     "output_type": "execute_result"
    }
   ],
   "source": [
    "df.groupby([\"ROI\", \"RSN\"])[\"Correlation\"].mean()\n",
    "df.groupby([\"ROI\", \"RSN\"])[\"Correlation\"].median()"
   ]
  },
  {
   "cell_type": "markdown",
   "id": "4a971908-20d5-4fbe-8ee6-9dac325ea077",
   "metadata": {},
   "source": [
    "In roi1, the correlation with SN was significantly lower than with DMN (p = .031), and marginal differences were also observed between DMN vs FPN and FPN vs SN (p = .063).\n",
    "In roi2, SN significantly differed from both DMN and FPN (both p = .031), while DMN and FPN showed no significant difference (p = .313)."
   ]
  },
  {
   "cell_type": "markdown",
   "id": "fd5e4252-6407-47eb-b25c-9f1536f9af99",
   "metadata": {},
   "source": [
    "### ROI vs ROI"
   ]
  },
  {
   "cell_type": "code",
   "execution_count": 96,
   "id": "e128a676-a9dc-4deb-bcec-bc79e9d2da31",
   "metadata": {},
   "outputs": [
    {
     "name": "stdout",
     "output_type": "stream",
     "text": [
      "DMN: roi1 vs roi2 → W = 6.000, p = 0.4375\n",
      "FPN: roi1 vs roi2 → W = 3.000, p = 0.1562\n",
      "SN: roi1 vs roi2 → W = 9.000, p = 0.8438\n"
     ]
    }
   ],
   "source": [
    "from scipy.stats import wilcoxon\n",
    "\n",
    "rsn_list = [\"DMN\", \"FPN\", \"SN\"]\n",
    "\n",
    "for rsn in rsn_list:\n",
    "    rsn_df = df[df[\"RSN\"] == rsn]\n",
    "    roi1_corr = rsn_df[rsn_df[\"ROI\"] == \"roi1\"].sort_values(\"Subject\")[\"Correlation\"]\n",
    "    roi2_corr = rsn_df[rsn_df[\"ROI\"] == \"roi2\"].sort_values(\"Subject\")[\"Correlation\"]\n",
    "    stat, p = wilcoxon(roi1_corr, roi2_corr)\n",
    "    print(f\"{rsn}: roi1 vs roi2 → W = {stat:.3f}, p = {p:.4f}\")"
   ]
  },
  {
   "cell_type": "markdown",
   "id": "1892ec87-275d-4c80-a1bb-7562c159f692",
   "metadata": {},
   "source": [
    "在 任一 RSN 中，roi1 與 roi2 的 correlation 並無顯著差異（皆 p > 0.05），表示從 ROI 的角度來看，兩個 ROI 對該 RSN 的 functional connectivity 並沒有系統性不同。"
   ]
  },
  {
   "cell_type": "markdown",
   "id": "c0cc45e7-4fb3-4879-971b-720e0ed7b1a7",
   "metadata": {},
   "source": [
    "### Demo, Behv & Corr"
   ]
  },
  {
   "cell_type": "markdown",
   "id": "a23bcdee-bb53-41cd-b246-2047a51f0732",
   "metadata": {},
   "source": [
    "#### Age & Corr"
   ]
  },
  {
   "cell_type": "code",
   "execution_count": 99,
   "id": "299c3455-d3d7-4890-b1d6-14b2b85d27aa",
   "metadata": {},
   "outputs": [
    {
     "name": "stdout",
     "output_type": "stream",
     "text": [
      "DMN – age vs correlation: r = -0.127, p = 0.6950\n",
      "FPN – age vs correlation: r = -0.524, p = 0.0806\n",
      "SN – age vs correlation: r = -0.372, p = 0.2336\n"
     ]
    }
   ],
   "source": [
    "from scipy.stats import pearsonr, spearmanr\n",
    "import pandas as pd\n",
    "\n",
    "# 讀取資料\n",
    "df_full = pd.read_csv(\"output/roi_rsn_correlation_full.csv\")\n",
    "df_full.head()\n",
    "\n",
    "# 以 age 與 correlation 的關係為例（依 RSN 分群）\n",
    "for rsn in [\"DMN\", \"FPN\", \"SN\"]:\n",
    "    rsn_df = df_full[df_full[\"RSN\"] == rsn]\n",
    "    r, p = pearsonr(rsn_df[\"fMRI_accuracy\"], rsn_df[\"Correlation\"])\n",
    "    print(f\"{rsn} – age vs correlation: r = {r:.3f}, p = {p:.4f}\")"
   ]
  },
  {
   "cell_type": "code",
   "execution_count": null,
   "id": "293385b4-f7a6-452b-a08e-e1d2edf6426e",
   "metadata": {},
   "outputs": [],
   "source": [
    "#### Accuracy & Corr"
   ]
  },
  {
   "cell_type": "code",
   "execution_count": 103,
   "id": "56f0796a-5038-4fc6-ad59-fed4cd8409a9",
   "metadata": {},
   "outputs": [
    {
     "name": "stdout",
     "output_type": "stream",
     "text": [
      "DMN – fMRI_accuracy vs correlation: r = 0.060, p = 0.8537\n",
      "FPN – fMRI_accuracy vs correlation: r = 0.337, p = 0.2848\n",
      "SN – fMRI_accuracy vs correlation: r = 0.022, p = 0.9468\n"
     ]
    }
   ],
   "source": [
    "from scipy.stats import pearsonr, spearmanr\n",
    "import pandas as pd\n",
    "\n",
    "# 讀取資料\n",
    "df_full = pd.read_csv(\"output/roi_rsn_correlation_full.csv\")\n",
    "df_full.head()\n",
    "\n",
    "# 以 age 與 correlation 的關係為例（依 RSN 分群）\n",
    "for rsn in [\"DMN\", \"FPN\", \"SN\"]:\n",
    "    rsn_df = df_full[df_full[\"RSN\"] == rsn]\n",
    "    r, p = pearsonr(rsn_df[\"fMRI_accuracy\"], rsn_df[\"Correlation\"])\n",
    "    print(f\"{rsn} – fMRI_accuracy vs correlation: r = {r:.3f}, p = {p:.4f}\")"
   ]
  }
 ],
 "metadata": {
  "kernelspec": {
   "display_name": "Python 3 (ipykernel)",
   "language": "python",
   "name": "python3"
  },
  "language_info": {
   "codemirror_mode": {
    "name": "ipython",
    "version": 3
   },
   "file_extension": ".py",
   "mimetype": "text/x-python",
   "name": "python",
   "nbconvert_exporter": "python",
   "pygments_lexer": "ipython3",
   "version": "3.10.17"
  }
 },
 "nbformat": 4,
 "nbformat_minor": 5
}
